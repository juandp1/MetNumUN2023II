{
  "cells": [
    {
      "cell_type": "markdown",
      "source": [
        "**Integrantes del Grupo 19**\n",
        "\n",
        "\n",
        "\n",
        "*   Juan David Palacios Feo\n",
        "*   Gian Karlo Lanziano\n",
        "*   Daniel Esteban Tobar\n",
        "\n",
        "\n"
      ],
      "metadata": {
        "id": "PBLSfvEcLXbH"
      }
    },
    {
      "cell_type": "markdown",
      "metadata": {
        "id": "_7zSSeX21Grj"
      },
      "source": [
        "# Simple iteration for systems of linear equations"
      ]
    },
    {
      "cell_type": "code",
      "source": [],
      "metadata": {
        "id": "fIhyqY0rIsEx"
      },
      "execution_count": null,
      "outputs": []
    },
    {
      "cell_type": "markdown",
      "metadata": {
        "id": "GRz8VJ0N1Grn"
      },
      "source": [
        "First, generate a random diagonally dominant matrix, for testing."
      ]
    },
    {
      "cell_type": "code",
      "execution_count": null,
      "metadata": {
        "collapsed": true,
        "id": "jTVkb-WZ1Gro"
      },
      "outputs": [],
      "source": [
        "import numpy as np\n",
        "rndm = np.random.RandomState(1234)\n",
        "\n",
        "n = 10\n",
        "A = rndm.uniform(size=(n, n)) + np.diagflat([15]*n)\n",
        "b = rndm.uniform(size=n)"
      ]
    },
    {
      "cell_type": "code",
      "source": [
        "A"
      ],
      "metadata": {
        "id": "4mv5q-nMKZwY",
        "outputId": "019ca45e-a5dd-4cbe-8bcd-90ee8d705cc4",
        "colab": {
          "base_uri": "https://localhost:8080/"
        }
      },
      "execution_count": null,
      "outputs": [
        {
          "output_type": "execute_result",
          "data": {
            "text/plain": [
              "array([[1.51915195e+01, 6.22108771e-01, 4.37727739e-01, 7.85358584e-01,\n",
              "        7.79975808e-01, 2.72592605e-01, 2.76464255e-01, 8.01872178e-01,\n",
              "        9.58139354e-01, 8.75932635e-01],\n",
              "       [3.57817270e-01, 1.55009951e+01, 6.83462935e-01, 7.12702027e-01,\n",
              "        3.70250755e-01, 5.61196186e-01, 5.03083165e-01, 1.37684496e-02,\n",
              "        7.72826622e-01, 8.82641191e-01],\n",
              "       [3.64885984e-01, 6.15396178e-01, 1.50753812e+01, 3.68824006e-01,\n",
              "        9.33140102e-01, 6.51378143e-01, 3.97202578e-01, 7.88730143e-01,\n",
              "        3.16836122e-01, 5.68098653e-01],\n",
              "       [8.69127390e-01, 4.36173424e-01, 8.02147642e-01, 1.51437668e+01,\n",
              "        7.04260971e-01, 7.04581308e-01, 2.18792106e-01, 9.24867629e-01,\n",
              "        4.42140755e-01, 9.09315959e-01],\n",
              "       [5.98092228e-02, 1.84287084e-01, 4.73552788e-02, 6.74880944e-01,\n",
              "        1.55946248e+01, 5.33310163e-01, 4.33240627e-02, 5.61433080e-01,\n",
              "        3.29668446e-01, 5.02966833e-01],\n",
              "       [1.11894318e-01, 6.07193706e-01, 5.65944643e-01, 6.76406199e-03,\n",
              "        6.17441709e-01, 1.59121229e+01, 7.90524133e-01, 9.92081466e-01,\n",
              "        9.58801762e-01, 7.91964135e-01],\n",
              "       [2.85250960e-01, 6.24916705e-01, 4.78093796e-01, 1.95675179e-01,\n",
              "        3.82317452e-01, 5.38736851e-02, 1.54516484e+01, 9.82004742e-01,\n",
              "        1.23942700e-01, 1.19380898e-01],\n",
              "       [7.38523056e-01, 5.87303633e-01, 4.71632534e-01, 1.07126817e-01,\n",
              "        2.29218565e-01, 8.99965195e-01, 4.16753538e-01, 1.55358517e+01,\n",
              "        6.20851659e-03, 3.00641706e-01],\n",
              "       [4.36893172e-01, 6.12148997e-01, 9.18198075e-01, 6.25736670e-01,\n",
              "        7.05997565e-01, 1.49833716e-01, 7.46063409e-01, 8.31006992e-01,\n",
              "        1.56337258e+01, 4.38309881e-01],\n",
              "       [1.52572775e-01, 5.68409615e-01, 5.28224278e-01, 9.51428764e-01,\n",
              "        4.80359179e-01, 5.02559563e-01, 5.36878193e-01, 8.19202067e-01,\n",
              "        5.71156381e-02, 1.56694217e+01]])"
            ]
          },
          "metadata": {},
          "execution_count": 2
        }
      ]
    },
    {
      "cell_type": "markdown",
      "metadata": {
        "id": "oNGIGBex1Grq"
      },
      "source": [
        "# I.  Jacobi iteration\n",
        "\n",
        "Given\n",
        "\n",
        "$$\n",
        "A x = b\n",
        "$$\n",
        "\n",
        "separate the diagonal part $D$,\n",
        "\n",
        "$$ A = D + (A - D) $$\n",
        "\n",
        "and write\n",
        "\n",
        "$$\n",
        "x = D^{-1} (D - A) x + D^{-1} b\\;.\n",
        "$$\n",
        "\n",
        "Then iterate\n",
        "\n",
        "$$\n",
        "x_{n + 1} = B x_{n} + c\\;,\n",
        "$$\n",
        "\n",
        "where\n",
        "\n",
        "$$\n",
        "B = D^{-1} (A - D) \\qquad \\text{and} \\qquad c = D^{-1} b\n",
        "$$\n"
      ]
    },
    {
      "cell_type": "markdown",
      "metadata": {
        "id": "rB2PHHIK1Grr"
      },
      "source": [
        "Let's construct the matrix and the r.h.s. for the Jacobi iteration"
      ]
    },
    {
      "cell_type": "code",
      "execution_count": null,
      "metadata": {
        "id": "bnk796g61Grr"
      },
      "outputs": [],
      "source": [
        "diag_1d = np.diag(A)\n",
        "\n",
        "B = -A.copy()\n",
        "np.fill_diagonal(B, 0)\n",
        "\n",
        "D = np.diag(diag_1d)\n",
        "invD = np.diag(1./diag_1d)\n",
        "BB = invD @ B\n",
        "c = invD @ b"
      ]
    },
    {
      "cell_type": "code",
      "execution_count": null,
      "metadata": {
        "id": "0NTUyC3i1Grs"
      },
      "outputs": [],
      "source": [
        "# sanity checks\n",
        "from numpy.testing import assert_allclose\n",
        "\n",
        "assert_allclose(-B + D, A)\n",
        "\n",
        "\n",
        "# xx is a \"ground truth\" solution, compute it using a direct method\n",
        "xx = np.linalg.solve(A, b)\n",
        "\n",
        "np.testing.assert_allclose(A@xx, b)\n",
        "np.testing.assert_allclose(D@xx, B@xx + b)\n",
        "np.testing.assert_allclose(xx, BB@xx + c)"
      ]
    },
    {
      "cell_type": "markdown",
      "metadata": {
        "id": "nRaVUE6U1Grt"
      },
      "source": [
        "Check that $\\| B\\| \\leqslant 1$:"
      ]
    },
    {
      "cell_type": "code",
      "execution_count": null,
      "metadata": {
        "id": "zgED2OGu1Gru",
        "outputId": "5e492902-6877-45cd-9f76-c9dae8f75512",
        "colab": {
          "base_uri": "https://localhost:8080/"
        }
      },
      "outputs": [
        {
          "output_type": "execute_result",
          "data": {
            "text/plain": [
              "0.36436161983015336"
            ]
          },
          "metadata": {},
          "execution_count": 5
        }
      ],
      "source": [
        "np.linalg.norm(BB)"
      ]
    },
    {
      "cell_type": "markdown",
      "metadata": {
        "id": "rlBcusqg1Grv"
      },
      "source": [
        "### Do the Jacobi iteration"
      ]
    },
    {
      "cell_type": "code",
      "execution_count": null,
      "metadata": {
        "collapsed": true,
        "id": "NK6iwDtm1Grv"
      },
      "outputs": [],
      "source": [
        "n_iter = 50\n",
        "\n",
        "x0 = np.ones(n)\n",
        "x = x0\n",
        "for _ in range(n_iter):\n",
        "    x = BB @ x + c"
      ]
    },
    {
      "cell_type": "code",
      "execution_count": null,
      "metadata": {
        "id": "gsLyio7W1Grw",
        "outputId": "99723681-1f1d-422a-822d-9dc2ef1a8481",
        "colab": {
          "base_uri": "https://localhost:8080/"
        }
      },
      "outputs": [
        {
          "output_type": "execute_result",
          "data": {
            "text/plain": [
              "array([ 1.11022302e-16,  0.00000000e+00, -2.22044605e-16, -1.11022302e-16,\n",
              "        1.11022302e-16,  0.00000000e+00, -2.42861287e-17,  0.00000000e+00,\n",
              "       -2.77555756e-17,  1.11022302e-16])"
            ]
          },
          "metadata": {},
          "execution_count": 7
        }
      ],
      "source": [
        "# Check the result:\n",
        "\n",
        "A @ x - b"
      ]
    },
    {
      "cell_type": "markdown",
      "metadata": {
        "id": "MXfb9BuT1Grw"
      },
      "source": [
        "### Task I.1\n",
        "\n",
        "Collect the proof-of-concept above into a single function implementing the Jacobi iteration. This function should receive the r.h.s. matrix $A$, the l.h.s. vector `b`, and the number of iterations to perform.\n",
        "\n",
        "\n",
        "The matrix $A$ in the illustration above is strongly diagonally dominant, by construction.\n",
        "What happens if the diagonal matrix elements of $A$ are made smaller? Check the convergence of the Jacobi iteration, and check the value of the norm of $B$.\n",
        "\n",
        "(20% of the total grade)\n"
      ]
    },
    {
      "cell_type": "code",
      "execution_count": null,
      "metadata": {
        "collapsed": true,
        "id": "5zqTUVVa1Grw",
        "colab": {
          "base_uri": "https://localhost:8080/"
        },
        "outputId": "5345e11b-f6fe-40d5-d3d8-dc0f6f3ba027"
      },
      "outputs": [
        {
          "output_type": "stream",
          "name": "stdout",
          "text": [
            "Convergence reached after 2 iterations.\n",
            "Result from jacobi_method: [ 0.03919429  0.03780037  0.04283232  0.02365951  0.05745031 -0.00030244\n",
            " -0.00577279  0.03177549 -0.00422849  0.05284648]\n",
            "Result from modified_jacobi_method: [0.05049637 0.04568193 0.05285884 0.03683105 0.06193394 0.0092481\n",
            " 0.00191869 0.03822729 0.00729613 0.06067932]\n"
          ]
        }
      ],
      "source": [
        "import numpy as np\n",
        "\n",
        "def jacobi_method(coef_matrix, target_vec, iter_count):\n",
        "    size = len(target_vec)\n",
        "    solution_vec = np.zeros(size)  # Initialize the solution vector\n",
        "\n",
        "    for _ in range(iter_count):\n",
        "        temp_vec = np.zeros(size)  # Initialize a new solution vector\n",
        "\n",
        "        for j in range(size):\n",
        "            sum_terms = np.dot(coef_matrix[j, :j], solution_vec[:j]) + np.dot(coef_matrix[j, j+1:], solution_vec[j+1:])\n",
        "            temp_vec[j] = (target_vec[j] - sum_terms) / coef_matrix[j, j]\n",
        "\n",
        "        solution_vec = temp_vec\n",
        "\n",
        "    return solution_vec\n",
        "\n",
        "def modified_jacobi_method(coef_matrix, target_vec, iter_count, stop_tolerance):\n",
        "    size = len(target_vec)\n",
        "    solution_vec = np.zeros(size)\n",
        "\n",
        "    for iteration in range(iter_count):\n",
        "        temp_vec = np.zeros(size)\n",
        "\n",
        "        for j in range(size):\n",
        "            sum_terms = np.dot(coef_matrix[j, :j], solution_vec[:j]) + np.dot(coef_matrix[j, j+1:], solution_vec[j+1:])\n",
        "            temp_vec[j] = (target_vec[j] - sum_terms) / coef_matrix[j, j]\n",
        "\n",
        "        norm_difference = np.linalg.norm(temp_vec - solution_vec)\n",
        "        if norm_difference < stop_tolerance:\n",
        "            print(f\"Convergence reached after {iteration+1} iterations.\")\n",
        "            break\n",
        "\n",
        "        solution_vec = temp_vec\n",
        "\n",
        "    return solution_vec\n",
        "\n",
        "result_jacobi = jacobi_method(A, b, n_iter)\n",
        "result_modified_jacobi = modified_jacobi_method(A, b, n_iter, 0.1)\n",
        "\n",
        "\n",
        "print(\"Result from jacobi_method:\", result_jacobi)\n",
        "print(\"Result from modified_jacobi_method:\", result_modified_jacobi)\n"
      ]
    },
    {
      "cell_type": "markdown",
      "metadata": {
        "id": "xBnguRFT1Grx"
      },
      "source": [
        "# II. Seidel's iteration."
      ]
    },
    {
      "cell_type": "markdown",
      "metadata": {
        "id": "rSbuFdYU1Grx"
      },
      "source": [
        "##### Task II.1\n",
        "\n",
        "Implement the Seidel's iteration.\n",
        "\n",
        "Test it on a random matrix. Study the convergence of iterations, relate to the norm of the iteration matrix.\n",
        "\n",
        "(30% of the total grade)"
      ]
    },
    {
      "cell_type": "code",
      "execution_count": null,
      "metadata": {
        "collapsed": true,
        "id": "FYygs3Ml1Grx",
        "colab": {
          "base_uri": "https://localhost:8080/"
        },
        "outputId": "2795a03c-bc86-45c3-bc86-30b5c3e1ade8"
      },
      "outputs": [
        {
          "output_type": "stream",
          "name": "stdout",
          "text": [
            "Gauss-Seidel Solution: (array([-6.40764666e+224,  1.46016855e+226, -3.62304513e+227,\n",
            "        3.58025637e+227, -3.35520016e+226,  7.09046811e+227,\n",
            "       -7.18761268e+227, -1.29999691e+228,  5.83787225e+227,\n",
            "        2.46893027e+227]), array([-8.96339445e+226,  5.88189786e+227, -6.41756694e+226,\n",
            "        1.37040517e+227, -9.17541871e+226, -1.17174729e+228,\n",
            "       -6.16236017e+227,  7.19993140e+227,  2.23897797e+227,\n",
            "       -2.93072054e-001]), 5.90790386858141)\n"
          ]
        }
      ],
      "source": [
        "\n",
        "\n",
        "import numpy as np\n",
        "\n",
        "def gauss_seidel_method(coef_matrix, solution_vector, iterations):\n",
        "    length = len(coef_matrix)\n",
        "    current_solution = np.zeros(length)  # Start with an initial guess of zeros\n",
        "\n",
        "    for _ in range(iterations):\n",
        "        for index in range(length):\n",
        "            sum1 = np.dot(coef_matrix[index, :index], current_solution[:index])\n",
        "            sum2 = np.dot(coef_matrix[index, index + 1:], current_solution[index + 1:])\n",
        "            current_solution[index] = (solution_vector[index] - sum1 - sum2) / coef_matrix[index, index]\n",
        "\n",
        "    matrix_residual = coef_matrix @ current_solution - solution_vector\n",
        "    norm_iter_matrix = np.linalg.norm(coef_matrix - np.diag(np.diag(coef_matrix)))\n",
        "\n",
        "    return current_solution, matrix_residual, norm_iter_matrix\n",
        "\n",
        "dimension = 10\n",
        "random_matrix = np.random.rand(dimension, dimension)\n",
        "random_vector = np.random.rand(dimension)\n",
        "\n",
        "iteration = 100\n",
        "\n",
        "gauss_seidel_solution = gauss_seidel_method(random_matrix, random_vector, iteration)\n",
        "\n",
        "print(\"Gauss-Seidel Solution:\", gauss_seidel_solution)\n"
      ]
    },
    {
      "cell_type": "markdown",
      "metadata": {
        "id": "y3PDxY8W1Gry"
      },
      "source": [
        "# III. Minimum residual scheme"
      ]
    },
    {
      "cell_type": "markdown",
      "metadata": {
        "id": "IbfUD6zy1Gry"
      },
      "source": [
        "### Task III.1\n",
        "\n",
        "Implement the $\\textit{minimum residual}$ scheme: an explicit non-stationary method, where at each step you select the iteration parameter $\\tau_n$ to minimize the residual $\\mathbf{r}_{n+1}$ given $\\mathbf{r}_n$. Test it on a random matrix, study the convergence to the solution, in terms of the norm of the residual and the deviation from the ground truth solution (which you can obtain using a direct method). Study how the iteration parameter $\\tau_n$ changes as iterations progress.\n",
        "\n",
        "(50% of the grade)"
      ]
    },
    {
      "cell_type": "code",
      "execution_count": null,
      "metadata": {
        "collapsed": true,
        "id": "60_IGETi1Gry",
        "colab": {
          "base_uri": "https://localhost:8080/"
        },
        "outputId": "87f1d486-d69f-4073-b6b1-9f27b449b137"
      },
      "outputs": [
        {
          "output_type": "stream",
          "name": "stdout",
          "text": [
            "Minimum Residual Solution: [-8.94828789e+11 -1.77487462e+13 -5.14776162e+12 -4.82211424e+12\n",
            "  6.85370409e+12  2.05703206e+13  1.25193914e+13 -6.26045224e+12\n",
            " -1.63959166e+12 -1.87255501e+13]\n",
            "Norm of the residual: 48174013499219.13\n",
            "Deviation from the ground truth solution: 37214851995890.45\n"
          ]
        }
      ],
      "source": [
        "import numpy as np\n",
        "\n",
        "def min_resid_method(coeff_matrix, target_vector, iterations):\n",
        "    dimension = len(target_vector)\n",
        "    sol_vector = np.zeros(dimension)\n",
        "\n",
        "    for _ in range(iterations):\n",
        "        resid_vector = target_vector - coeff_matrix.dot(sol_vector)\n",
        "        iter_param = np.dot(resid_vector, resid_vector) / np.dot(resid_vector, coeff_matrix.dot(resid_vector))\n",
        "        sol_vector += iter_param * resid_vector\n",
        "\n",
        "    return sol_vector\n",
        "\n",
        "\n",
        "dimension = 10\n",
        "random_coeff_matrix = np.random.rand(dimension, dimension)\n",
        "\n",
        "# Generate a random vector\n",
        "random_target_vector = np.random.rand(dimension)\n",
        "\n",
        "# Set the number of iterations\n",
        "iteration_count = 100\n",
        "\n",
        "# Perform the minimum residual method\n",
        "min_resid_solution = min_resid_method(random_coeff_matrix, random_target_vector, iteration_count)\n",
        "\n",
        "\n",
        "true_solution = np.linalg.solve(random_coeff_matrix, random_target_vector)\n",
        "\n",
        "\n",
        "solution_residual = random_target_vector - random_coeff_matrix.dot(min_resid_solution)\n",
        "\n",
        "\n",
        "residual_norm = np.linalg.norm(solution_residual)\n",
        "\n",
        "solution_deviation = np.linalg.norm(min_resid_solution - true_solution)\n",
        "\n",
        "print(\"Minimum Residual Solution:\", min_resid_solution)\n",
        "print(\"Norm of the residual:\", residual_norm)\n",
        "print(\"Deviation from the ground truth solution:\", solution_deviation)\n",
        "\n"
      ]
    }
  ],
  "metadata": {
    "kernelspec": {
      "display_name": "Python 3",
      "language": "python",
      "name": "python3"
    },
    "language_info": {
      "codemirror_mode": {
        "name": "ipython",
        "version": 3
      },
      "file_extension": ".py",
      "mimetype": "text/x-python",
      "name": "python",
      "nbconvert_exporter": "python",
      "pygments_lexer": "ipython3",
      "version": "3.5.2"
    },
    "colab": {
      "provenance": []
    }
  },
  "nbformat": 4,
  "nbformat_minor": 0
}