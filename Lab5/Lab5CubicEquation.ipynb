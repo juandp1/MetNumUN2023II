{
  "nbformat": 4,
  "nbformat_minor": 0,
  "metadata": {
    "colab": {
      "provenance": []
    },
    "kernelspec": {
      "name": "python3",
      "display_name": "Python 3"
    },
    "language_info": {
      "name": "python"
    }
  },
  "cells": [
    {
      "cell_type": "markdown",
      "source": [
        "Modify [week_1_quadratic_Po_Shen_Loh.ipyn](https://colab.research.google.com/drive/15vXGB18_np6o0Rw8ZV4o08RTdCdDIdT0?usp=sharing) for\n",
        "\n",
        "$$ ax^3+bx^+cx +d = 0$$\n",
        "\n",
        "using Cubic equation – General cubic formula- [wikipedia](https://en.wikipedia.org/wiki/Cubic_equation)\n",
        "\n",
        "Asuume $a=1$ then work wequations are of the form\n",
        "\n",
        "$$ x^3+bx^+cx +d = 0$$\n",
        "\n",
        "Including plots, expalnations, solution code and test cases\n",
        "\n"
      ],
      "metadata": {
        "id": "q5PfhUy3iXZi"
      }
    },
    {
      "cell_type": "markdown",
      "source": [
        "**Integrantes del Grupo**\n",
        "\n",
        "\n",
        "\n",
        "*   Juan David Palacios Feo\n",
        "*   Gian Karlo Lanziano\n",
        "*   Daniel Esteban Tobar\n",
        "\n",
        "\n"
      ],
      "metadata": {
        "id": "PBLSfvEcLXbH"
      }
    },
    {
      "cell_type": "code",
      "source": [
        "def cubic(b,c,d,x):\n",
        "    \"\"\"Calulate the value of the  qubic equation, v = x**3 + bx**2 + c*x +d\n",
        "\n",
        "    Parameters\n",
        "    ----------\n",
        "    b, c, d  : float\n",
        "       Coefficients\n",
        "\n",
        "    Returns\n",
        "    -------\n",
        "    v : float \"\"\"\n",
        "\n",
        "    # ... enter your code here ...\n",
        "\n",
        "    v = x**3 + b*(x**2) + c*(x) + d\n",
        "    print(\"use\"+ str(x))\n",
        "    print(v)\n",
        "    return v"
      ],
      "metadata": {
        "id": "2etHLiNplRC_"
      },
      "execution_count": 1,
      "outputs": []
    },
    {
      "cell_type": "code",
      "source": [
        "from sympy import Symbol\n",
        "from sympy import div\n",
        "\n",
        "def divi(p,a):\n",
        "  x = Symbol('x')\n",
        "  p,r=div(p,x+a)\n",
        "\n",
        "\n",
        "  return p\n"
      ],
      "metadata": {
        "id": "qqnBS6B6w0ek"
      },
      "execution_count": 2,
      "outputs": []
    },
    {
      "cell_type": "code",
      "source": [
        "import cmath\n",
        "import math\n",
        "def solve_quad(b, c):\n",
        "  \"\"\"Solve a quadratic equation, x**2 + bx + c = 0.\n",
        "\n",
        "    Parameters\n",
        "    ----------\n",
        "    b, c : float\n",
        "       Coefficients\n",
        "\n",
        "    Returns\n",
        "    -------\n",
        "    x1, x2 : float or complex\n",
        "       Roots.  \"\"\"\n",
        "\n",
        "    # ... enter your code here ...\n",
        "\n",
        "  x1=0\n",
        "  x2=0\n",
        "\n",
        "  d=b**2-(4*c)\n",
        "  if d == b**2:\n",
        "    x1 = -b\n",
        "    x2 = c/x1\n",
        "  elif d<0:\n",
        "\n",
        "    x1=complex((-b/2), (math.sqrt(abs(d))/2))\n",
        "    x2=complex((-b/2), (-math.sqrt(abs(d))/2))\n",
        "  else:\n",
        "\n",
        "    x1=(-b+ math.sqrt(d))/2\n",
        "    x2=(-b- math.sqrt(d))/2\n",
        "\n",
        "  return x1,x2"
      ],
      "metadata": {
        "id": "D-_yJZku4_lR"
      },
      "execution_count": 3,
      "outputs": []
    },
    {
      "cell_type": "code",
      "execution_count": 4,
      "metadata": {
        "id": "o99NfjpaiThf"
      },
      "outputs": [],
      "source": [
        "import math\n",
        "import numpy as np\n",
        "\n",
        "\n",
        "\n",
        "def findC(d_0, d_1, discriminant):\n",
        "    if discriminant >= 0:\n",
        "        y = d_1 + math.sqrt(discriminant)\n",
        "        if y == 0:\n",
        "            y = d_1 - math.sqrt(discriminant)\n",
        "    else:\n",
        "        y = complex(d_1 + math.sqrt(abs(discriminant)))\n",
        "        if y == 0:\n",
        "            y = d_1 - math.sqrt(abs(discriminant))\n",
        "    return (y/2)**(1/3)\n",
        "\n",
        "def solve_cubic(b, c,d):\n",
        "    \"\"\"Solve a cubic equation, x**3 + bx**2 + c*x +d = 0.\n",
        "\n",
        "    Parameters\n",
        "    ----------\n",
        "    b, c,d : float\n",
        "       Coefficients\n",
        "\n",
        "    Returns\n",
        "    -------\n",
        "    x1, x2,x3 : float or complex\n",
        "       Roots.  \"\"\"\n",
        "\n",
        "    # ... enter your code here ...\n",
        "\n",
        "    d_0 = (b**2) - (3*c)\n",
        "    d_1 = 2*(b**3) - (9*b*c) + (27*d)\n",
        "    discriminant = (d_1**2 - 4*d_0**3)\n",
        "    var_C = findC(d_0, d_1, discriminant)\n",
        "\n",
        "    if d_0 == d_1 == 0:\n",
        "        x_1 = -b/3\n",
        "\n",
        "        return x_1, x_1, x_1\n",
        "\n",
        "    elif (b**2) - (3*c) == b**2  or 2*(b**3) - (9*b*c) + (27*d) == 2*(b**3):\n",
        "\n",
        "\n",
        "      # p(x) = 5(x**2) + (-2)x +5\n",
        "      px = (1, b, c,d)\n",
        "      # g(x) = x +2\n",
        "      gx = (1,b)\n",
        "\n",
        "      qx,rx = np.polynomial.polynomial.polydiv(px,gx)\n",
        "\n",
        "      x1=-b\n",
        "      #x2,x3=solve_quad(qx[1],qx[2])\n",
        "\n",
        "      coeff=[qx[0],qx[1],qx[2]]\n",
        "      roots=np.roots(coeff)\n",
        "\n",
        "      x2=roots[0]\n",
        "      x3=roots[1]\n",
        "      return x1,x2,x3\n",
        "\n",
        "\n",
        "    elif discriminant < 0:\n",
        "\n",
        "        if d_0 >= 0:\n",
        "            theta = np.arccos(d_1/(2*math.sqrt(d_0**3)))\n",
        "\n",
        "            x_1 = (-b/3) + (2/3 * math.sqrt(d_0) * math.cos((theta)/3))\n",
        "            x_2 = (-b/3) + (2/3 * math.sqrt(d_0) * math.cos((theta + 2*1*math.pi)/3))\n",
        "            x_3 = (-b/3) + (2/3 * math.sqrt(d_0) * math.cos((theta + 2*2*math.pi)/3))\n",
        "        else:\n",
        "\n",
        "            theta = complex(np.arccos(d_1/(2*math.sqrt(abs(d_0**3)))))\n",
        "\n",
        "            x_1 = complex(-(b/3) + 2/3 * math.sqrt(d_0) * math.cos((theta)/3))\n",
        "            x_2 = complex(-(b/3) + 2/3 * math.sqrt(d_0) * math.cos((theta + 2*1*math.pi)/3))\n",
        "            x_3 = complex(-(b/3) + 2/3 * math.sqrt(d_0) * math.cos((theta + 2*2*math.pi)/3))\n",
        "\n",
        "        return -x_1,-x_2,-x_3\n",
        "\n",
        "    else:\n",
        "        w = (-1 + 1j*math.sqrt(3)) / 2\n",
        "        x_1 = -(1/3) * (b + var_C + d_0/var_C)\n",
        "        x_2 = -(1/3) * (b + w*var_C + d_0/(w*var_C))\n",
        "        x_3 = -(1/3) * (b + w**2*var_C + d_0/(w**2*var_C))\n",
        "        return x_1,x_2,x_3"
      ]
    },
    {
      "cell_type": "markdown",
      "source": [
        "Bulit test cases that include\n",
        "\n",
        "$$(x-1) \\left( x + \\frac{1}{2} + i \\frac{\\sqrt{3}}{2}\\right) \\left( x + \\frac{1}{2} - i \\frac{\\sqrt{3}}{2}\\right) =   x^3 -1 =  0  $$\n",
        "\n",
        "$$(x-1)^3 = x^3 - 3 x^2 + 3 x - 1 = 0 $$\n",
        "\n",
        "$$(x-1)(x-i)(x+i) = x^3 - x^2 + x - 1 = 0 $$\n",
        "\n",
        "$$ (x+2)^2 (x-1) = x^3 + 3 x^2 - 4 = 0  $$\n",
        "three real diferent roots,  roots in the last digits of the group members, root of mtiuplicity two, and complex roots with small and large $b$.\n",
        "\n",
        "**Last digits:**"
      ],
      "metadata": {
        "id": "BpvJhj5Zl2lI"
      }
    },
    {
      "cell_type": "code",
      "source": [
        "from numpy import allclose\n",
        "import matplotlib.pyplot as plt\n",
        "import numpy as np\n",
        "\n",
        "variants = [\n",
        "\n",
        "            {'b': 1E10, 'c': 1, 'd': 2},]\n",
        "x = np.linspace(-10, 10, 10);\n",
        "for var in variants:\n",
        "    x1, x2, x3= solve_cubic(**var)\n",
        "    print(allclose(cubic(var['b'],var['c'],var['d'],x1), 0.0) and allclose(cubic(var['b'],var['c'],var['d'],x2), 0.0) and  allclose(cubic(var['b'],var['c'],var['d'],x3), 0.0))\n",
        "    plt.figure(figsize=(12, 4))\n",
        "    plt.plot(x, x**3 + var['b'] * x**2 + var['c'] * x + var['d'] , 'b', label='Función')\n",
        "    plt.title('Función')\n",
        "    plt.xlabel('x')\n",
        "    plt.ylabel('f(x)')\n",
        "    plt.legend()\n",
        "    plt.margins(x=-0.01, y=-0.25)\n",
        "    plt.grid()\n",
        "    plt.show()"
      ],
      "metadata": {
        "id": "8fjriYmkmHOw",
        "colab": {
          "base_uri": "https://localhost:8080/",
          "height": 465
        },
        "outputId": "e54479c3-8f91-4f7d-9c28-d2453e0f4de9"
      },
      "execution_count": 5,
      "outputs": [
        {
          "output_type": "stream",
          "name": "stdout",
          "text": [
            "use-10000000000.0\n",
            "-9999999998.0\n",
            "False\n"
          ]
        },
        {
          "output_type": "display_data",
          "data": {
            "text/plain": [
              "<Figure size 1200x400 with 1 Axes>"
            ],
            "image/png": "[encoded data removed]"
          },
          "metadata": {}
        }
      ]
    },
    {
      "cell_type": "markdown",
      "source": [
        " Publish the notebook in as **pperezp_groupN_CubicEquation.ipynb** at **MetNumUN2023II/Lab5** and submit only the code of **solve_cubic(b, c,d)** in UNcode Quiz Cubic Equation."
      ],
      "metadata": {
        "id": "0s01RrfqmE_f"
      }
    }
  ]
}