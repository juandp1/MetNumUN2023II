{
  "cells": [
    {
      "cell_type": "markdown",
      "metadata": {
        "id": "xbAWD-q6yn-x"
      },
      "source": [
        "# Name: Juan David Palacios Feo\n",
        "\n",
        "\n",
        "# Number in the list : 31\n",
        "# Last digit of the number in the list: 1"
      ]
    },
    {
      "cell_type": "markdown",
      "metadata": {
        "id": "r4rXWI4gCN5B"
      },
      "source": [
        "# Arithmetic Series\n",
        "\n",
        "## Modified from Arithmetic Series -  [Wolfram MathWorld](https://mathworld.wolfram.com/ArithmeticSeries.html) - [wikipedia](https://en.wikipedia.org/wiki/Arithmetic_progression)\n",
        "\n",
        "\n",
        "An arithmetic sequence $\\{a_k\\}$ for $k=1, 2, ..., $ in which each term is computed from the previous one by adding (or subtracting) a constant $d$.\n",
        "\n",
        "\\begin{align*}\n",
        "a_1 & \\\\\n",
        "a_2 &\\ \\ =\\ \\ a_1 + d  \\\\\n",
        "a_3 &\\ \\ =\\ \\ a_2 + d \\ \\ =\\ \\ a_1 + 2d   \\\\\n",
        "a_4 &\\ \\ =\\ \\ a_3 + d \\ \\ =\\ \\ a_2 + 2d \\ \\ =\\ \\ a_1 + 3d  \\\\\n",
        "\\vdots\\\\\n",
        "a_k &\\ \\ =\\ \\ a_{(k-1)}+d \\ =\\  a_{(k-2)}+2d \\ =\\  \\ldots \\ =\\  \\ a_1+(k-1)d\n",
        "\\end{align*}\n",
        "\n",
        "Therefore, for $k>=1$,\n",
        "\n",
        "$$ a_k = a_1 + (k-1)d$$\n",
        "\n",
        "With $a_1$ and $d$ given.\n",
        "\n",
        "<br />\n",
        "\n",
        "The sequence of the partial sum of the first $n$ terms of a sequence is called a series, in the case of an arithemetic sequence the series is called an arithmetic series.\n",
        "\n",
        "If  $a_1= 1$ and $d=1$ we have, the simplest arithmnetic sequence,  the natural numbers sequence $\\{a_k = k \\}$ for  $k=1, 2, ..., $  i.e. the seuqnece\n",
        "$$1, 2, ...,$$\n",
        "The  corresponding series is\n",
        "$$\n",
        "S_n = 1 + 2+ \\ldots + (n-1)+ n = \\sum_{k=1}^n k\n",
        "$$\n",
        "can be calculated as a function of $n$.\n",
        "\n",
        "Assume that we allign one $S_{n-1}$ with a second  $S_{n-1}$ that have the terms adden reverse order and you add term to term, we have\n",
        "\\begin{array}{llclclclclc}\n",
        "  S_{n-1} &=& 1 &+& 2 &+& \\ldots &+& (n-2) &+& (n-1) \\\\\n",
        "  S_{n-1} &=& (n-1)  &+& (n-2)  &+& \\ldots   &+& 2   &+& 1 \\\\\n",
        "   \\hline \\\\\n",
        "   2S_{n-1} &=& n  &+& n  &+& \\ldots   &+& n   &+& n \\\\\n",
        "\\end{array}\n",
        "so\n",
        "$$  2S_{n-1} = (n-1)n $$\n",
        "then\n",
        "$$  S_{n-1} = \\frac{1}{2} (n-1)n$$\n",
        "therefore\n",
        "$$  S_{n} = \\frac{1}{2} n(n+1)$$\n",
        "\n",
        "\n",
        "\\begin{align*}\n",
        "S_n &= \\sum_{k=1}^n a_k\t\\\\\n",
        "    &= \\sum_{k=1}^n[a_1+(k-1)d]\t\t\\\\\n",
        "    &= na_1 + d \\sum_{k=1}^n(k-1)\t\\\\\n",
        "    &= na_1 + d \\sum_{k=0}^{n-1} k\t\\\\\n",
        "    &= na_1 + d \\sum_{k=1}^{n-1} k\t\\\\\n",
        "    &= na_1 +  \\frac{1}{2} d(n-1)n\\\\\n",
        "\\end{align*}\n",
        "so\n",
        "$$ S_n =  \\frac{1}{2} n[2 a_1 +d(n-1)].$$\n",
        "\n",
        "Note, however, that\n",
        "$$a_1+a_n=a_1+[a_1+d(n-1)]=2a_1+d(n-1),$$\n",
        "so\n",
        "$$S_n = \\frac{1}{2}n(a_1+a_n),$$\n",
        "\n",
        "\n",
        "or $n$ times the arithmetic mean of the first and last terms! This is the trick Gauss used as a schoolboy to solve the problem of summing the integers from $1$ to $100$ given as busy-work by his teacher. While his classmates toiled away doing the addition longhand, Gauss wrote a single number, the correct answer\n",
        "\n",
        "$$\\frac{1}{2}(100)(1+100)=50·101=5050$$\n",
        "on his slate (Burton 1989, pp. 80-81; Hoffman 1998, p. 207). When the answers were examined, Gauss's proved to be the only correct one.\n",
        "\n",
        "<br />\n",
        "\n",
        "If  the sequence starts at index $0$, $\\{a_k\\}$ for $ k=0, 1, 2, ..., $ we have\n",
        "\n",
        "\\begin{align*}\n",
        "a_0 & \\\\\n",
        "a_1 &\\ \\ =\\ \\ a_0 + d  \\\\\n",
        "a_2 &\\ \\ =\\ \\ a_1 + d \\ \\ =\\ \\ a_0 + 2d   \\\\\n",
        "a_3 &\\ \\ =\\ \\ a_2 + d \\ \\ =\\ \\ a_1 + 2d \\ \\ =\\ \\ a_0 + 3d  \\\\\n",
        "\\vdots\\\\\n",
        "a_k &\\ \\ =\\ \\ a_{(k-1)}+d \\ =\\  a_{(k-2)}+2d \\ =\\  \\ldots \\ = \\  \\ a_1+(k-1)d \\ \\ =\\ \\ a_0+kd\n",
        "\\end{align*}\n",
        "\n",
        "<br />\n",
        "for given   $a_0$ and $d$.\n",
        "\n",
        "In this case the sum of the terms between $0$ and $n$ of  the arithemnetic sequence  is then given by\n",
        "\\begin{align*}\n",
        "S_n &= \\sum_{k=0}^{n} a_k\t\\\\\n",
        "    &= \\sum_{k=0}^{n}[a_0+kd]\t\t\\\\\n",
        "    &= (n+1) a_0 + d \\sum_{k=0}^{n} k\t\\\\\n",
        "    &= (n+1) a_0 + d \\sum_{k=1}^{} k\t\\\\\n",
        "    &=(n+1) a_0+  \\frac{1}{2} dn(n+1) \\\\\n",
        "\\end{align*}\n",
        "so\n",
        "$$ S_n =  \\frac{1}{2} (n+1)[2 a_0 + dn].$$\n",
        "<br />\n",
        "$$ S_n =  \\frac{1}{2} (n+1)[a_0+ a_n].$$\n",
        "\n",
        "\n"
      ]
    },
    {
      "cell_type": "markdown",
      "metadata": {
        "id": "GfBh-QHRcods"
      },
      "source": [
        "### Code\n",
        "####  The simplest arithmetic sequence and series\n",
        "\n",
        "The simplest arithmnetic sequence is\n",
        "\n",
        "\n",
        "$$a_n = 1, 2, ...,$$"
      ]
    },
    {
      "cell_type": "markdown",
      "metadata": {
        "id": "n36eWqEXiktl"
      },
      "source": [
        "The following code plots the first $n = 15$ terms of the simplest arithmnetic sequence\n",
        "$$\\{a_n = n\\} \\text{ for } n =1,2,\\ldots  $$\n",
        "i.e\n",
        "$$\\{a_n = n\\} =1,2,\\ldots $$\n",
        "adn the corresponding terms of the simplest arithmnetic series\n",
        "$$  S_n = 1 + 2+ \\ldots + (n-1)+ n = \\sum_{k=1}^n k=  \\frac{1}{2} n(n+1)$$\n"
      ]
    },
    {
      "cell_type": "markdown",
      "metadata": {
        "id": "_VyGiunIZknK"
      },
      "source": [
        "Plot"
      ]
    },
    {
      "cell_type": "code",
      "execution_count": null,
      "metadata": {
        "colab": {
          "base_uri": "https://localhost:8080/",
          "height": 448
        },
        "id": "gx3Q4uo-ONCi",
        "outputId": "a648e669-eab4-480b-9215-8c6c72cb144f"
      },
      "outputs": [
        {
          "data": {
            "text/plain": [
              "<matplotlib.legend.Legend at 0x7f9e4564e4d0>"
            ]
          },
          "execution_count": 1,
          "metadata": {},
          "output_type": "execute_result"
        },
        {
          "data": {
            "image/png": "[encoded data removed]",
            "text/plain": [
              "<Figure size 640x480 with 1 Axes>"
            ]
          },
          "metadata": {},
          "output_type": "display_data"
        }
      ],
      "source": [
        "import matplotlib.pyplot as plt\n",
        "import numpy as np\n",
        "\n",
        "n = 15\n",
        "S_n = 0\n",
        "Serie_S_n=[]\n",
        "Sequence_a_n =[]\n",
        "for i in range(1,n+1):\n",
        "  S_n = S_n + i\n",
        "  Serie_S_n.append(S_n)\n",
        "  Sequence_a_n.append(i)\n",
        "\n",
        "\n",
        "plt.plot(np.arange(1, n+1),Serie_S_n, color='black',label='Serie_S_n')\n",
        "plt.plot(np.arange(1, n+1), Sequence_a_n, color='red',label='Sequence_a_n')\n",
        "plt.xticks(np.arange(1, n+1))\n",
        "plt.legend()\n",
        "\n",
        "\n"
      ]
    },
    {
      "cell_type": "code",
      "execution_count": null,
      "metadata": {
        "colab": {
          "base_uri": "https://localhost:8080/"
        },
        "id": "o2es6b4cysQk",
        "outputId": "2d8875c7-e4c1-49cc-9b38-028475c5f19f"
      },
      "outputs": [
        {
          "data": {
            "text/plain": [
              "[1, 2, 3, 4, 5, 6, 7, 8, 9, 10, 11, 12, 13, 14, 15]"
            ]
          },
          "execution_count": 12,
          "metadata": {
            "tags": []
          },
          "output_type": "execute_result"
        }
      ],
      "source": [
        "Sequence_a_n"
      ]
    },
    {
      "cell_type": "code",
      "execution_count": null,
      "metadata": {
        "colab": {
          "base_uri": "https://localhost:8080/"
        },
        "id": "T2VeBOBZ0ibg",
        "outputId": "daaf6544-5edd-4843-a485-505e1a06a3f7"
      },
      "outputs": [
        {
          "data": {
            "text/plain": [
              "[1, 3, 6, 10, 15, 21, 28, 36, 45, 55, 66, 78, 91, 105, 120]"
            ]
          },
          "execution_count": 14,
          "metadata": {
            "tags": []
          },
          "output_type": "execute_result"
        }
      ],
      "source": [
        "Serie_S_n"
      ]
    },
    {
      "cell_type": "markdown",
      "metadata": {
        "id": "0ybfJdHxZGvW"
      },
      "source": [
        "The following code computes the  $n=10000000$  term of the airthmetic series\n",
        "$$  S_n = 1 + 2+ \\ldots + (n-1)+ n = \\sum_{k=1}^n =  \\frac{1}{2} n(n+1)$$"
      ]
    },
    {
      "cell_type": "code",
      "execution_count": null,
      "metadata": {
        "colab": {
          "base_uri": "https://localhost:8080/"
        },
        "id": "99xYHDQycnol",
        "outputId": "a21e2f92-385a-4cea-910f-7e32bafd11e4"
      },
      "outputs": [
        {
          "name": "stdout",
          "output_type": "stream",
          "text": [
            "50000005000000\n"
          ]
        }
      ],
      "source": [
        "n = 10000000\n",
        "S_n = 0\n",
        "for i in range(1,n+1):  # range(n+1) goes form 1 to n\n",
        "  S_n = S_n + i\n",
        "print(S_n)"
      ]
    },
    {
      "cell_type": "code",
      "execution_count": null,
      "metadata": {
        "colab": {
          "base_uri": "https://localhost:8080/"
        },
        "id": "RGCSuDGHeFwH",
        "outputId": "e1d60652-ce77-4933-a4dc-fa178257f349"
      },
      "outputs": [
        {
          "data": {
            "text/plain": [
              "50000005000000.0"
            ]
          },
          "execution_count": 8,
          "metadata": {
            "tags": []
          },
          "output_type": "execute_result"
        }
      ],
      "source": [
        "(1/2)*n*(n+1)"
      ]
    },
    {
      "cell_type": "markdown",
      "metadata": {
        "id": "bg8zxAhcecpk"
      },
      "source": [
        "The following code computes the $n=10000000$ term of the airthmetic series\n",
        "$$ S_n  = \\sum_{k=1}^n a_k$$\n",
        "\n",
        "<br />\n",
        "for the airthmetic sequence $a_k = 10 + 3 (k-1) $ for $k=1,2,\\ldots$\n",
        "\n",
        "<br />\n",
        "$$ 10,13,16,19,21,\\ldots$$\n"
      ]
    },
    {
      "cell_type": "markdown",
      "metadata": {
        "id": "hg3ixQ3bZiVh"
      },
      "source": [
        "Plot"
      ]
    },
    {
      "cell_type": "code",
      "execution_count": null,
      "metadata": {
        "colab": {
          "base_uri": "https://localhost:8080/"
        },
        "id": "w8FP1XqSgnie",
        "outputId": "4a81915d-b3b6-4089-cb05-5a46b03ba87f"
      },
      "outputs": [
        {
          "name": "stdout",
          "output_type": "stream",
          "text": [
            "150000085000000\n"
          ]
        }
      ],
      "source": [
        "n = 10000000\n",
        "a = 10\n",
        "d = 3 #\n",
        "S_n = 0\n",
        "for i in range(1,n+1):  # range(n+19 goes form 1 to n\n",
        "  a_n = a + d * (i-1)\n",
        "  S_n = S_n + a_n\n",
        "print(S_n)"
      ]
    },
    {
      "cell_type": "code",
      "execution_count": null,
      "metadata": {
        "colab": {
          "base_uri": "https://localhost:8080/"
        },
        "id": "g_38RfB_hgg2",
        "outputId": "088f349a-3f72-4e5d-b977-30b61ddcbb25"
      },
      "outputs": [
        {
          "data": {
            "text/plain": [
              "150000085000000.0"
            ]
          },
          "execution_count": 25,
          "metadata": {
            "tags": []
          },
          "output_type": "execute_result"
        }
      ],
      "source": [
        "n*(2*a +d*(n-1))/2"
      ]
    },
    {
      "cell_type": "code",
      "execution_count": null,
      "metadata": {
        "colab": {
          "base_uri": "https://localhost:8080/"
        },
        "id": "zS3qb_xE1u58",
        "outputId": "3a90e3cb-788b-49cc-db02-6b53b4d092d9"
      },
      "outputs": [
        {
          "data": {
            "text/plain": [
              "150000085000000.0"
            ]
          },
          "execution_count": 26,
          "metadata": {
            "tags": []
          },
          "output_type": "execute_result"
        }
      ],
      "source": [
        "n*(a +a_n)/2"
      ]
    },
    {
      "cell_type": "code",
      "execution_count": null,
      "metadata": {
        "colab": {
          "base_uri": "https://localhost:8080/",
          "height": 449
        },
        "id": "7qesKez70zub",
        "outputId": "9ab4e9e3-eb40-4d98-dac5-8b60d240378f"
      },
      "outputs": [
        {
          "data": {
            "text/plain": [
              "<matplotlib.legend.Legend at 0x7c3dadd427d0>"
            ]
          },
          "execution_count": 1,
          "metadata": {},
          "output_type": "execute_result"
        },
        {
          "data": {
            "image/png": "[encoded data removed]",
            "text/plain": [
              "<Figure size 640x480 with 1 Axes>"
            ]
          },
          "metadata": {},
          "output_type": "display_data"
        }
      ],
      "source": [
        "import matplotlib.pyplot as plt\n",
        "import numpy as np\n",
        "\n",
        "n = 20\n",
        "a = 10\n",
        "d = 3\n",
        "S_n = 0\n",
        "Serie_S_n=[]\n",
        "Sequence_a_n =[]\n",
        "for i in range(1,n+1):  # range(n+1) goes form 1 to n\n",
        "  a_n = a + d * (i-1)\n",
        "  S_n = S_n + a_n\n",
        "  Serie_S_n.append(S_n)\n",
        "  Sequence_a_n.append(a_n)\n",
        "\n",
        "plt.plot(np.arange(1, n+1),Serie_S_n, color='black',label='Serie_S_n')\n",
        "plt.plot(np.arange(1, n+1),Sequence_a_n, color='red',label='Sequence_a_n')\n",
        "plt.xticks(np.arange(1, n+1))\n",
        "plt.legend()"
      ]
    },
    {
      "cell_type": "markdown",
      "metadata": {
        "id": "r9qzONSlZq2q"
      },
      "source": [
        "## Your own example of arithmetic series $a_1$ is your list number and $d$ as the last digit of the your list number\n",
        "\n"
      ]
    },
    {
      "cell_type": "markdown",
      "metadata": {
        "id": "c-Aqre08dmTe"
      },
      "source": [
        "The following code computes the $n=100$ term of the airthmetic series\n",
        "$$ S_n  = \\sum_{k=1}^n a_k$$\n",
        "\n",
        "<br />\n",
        "for the airthmetic sequence $a_k = 31 + 1 (k-1) $ for $k=1,2,\\ldots$\n",
        "\n",
        "<br />"
      ]
    },
    {
      "cell_type": "markdown",
      "metadata": {
        "id": "N-TxF1qxc-nk"
      },
      "source": []
    },
    {
      "cell_type": "code",
      "execution_count": 28,
      "metadata": {
        "colab": {
          "base_uri": "https://localhost:8080/",
          "height": 448
        },
        "id": "SrJ_dPxS0pwP",
        "outputId": "b08ee5fd-b3ff-4244-b7cf-46e3ca26dfd9"
      },
      "outputs": [
        {
          "data": {
            "text/plain": [
              "8050"
            ]
          },
          "execution_count": 28,
          "metadata": {},
          "output_type": "execute_result"
        },
        {
          "data": {
            "image/png": "[encoded data removed]",
            "text/plain": [
              "<Figure size 640x480 with 1 Axes>"
            ]
          },
          "metadata": {},
          "output_type": "display_data"
        }
      ],
      "source": [
        "import matplotlib.pyplot as plt\n",
        "import numpy as np\n",
        "\n",
        "n = 100\n",
        "a = 31\n",
        "d = 1\n",
        "S_n = 0\n",
        "Serie_S_n=[]\n",
        "Sequence_a_n =[]\n",
        "for k in range(1,n+1):  # range(n+1) goes form 1 to n\n",
        "  a_n = a + d * (k-1)\n",
        "  S_n = S_n + a_n\n",
        "  Serie_S_n.append(S_n)\n",
        "  Sequence_a_n.append(a_n)\n",
        "\n",
        "plt.plot(np.arange(1, n+1),Serie_S_n, color='black',label='Serie_S_n')\n",
        "plt.plot(np.arange(1, n+1),Sequence_a_n, color='red',label='Sequence_a_n')\n",
        "plt.xticks(np.arange(1, n+1))\n",
        "plt.legend()\n",
        "\n",
        "S_n"
      ]
    },
    {
      "cell_type": "markdown",
      "metadata": {
        "id": "CJZdGLduUNcO"
      },
      "source": [
        "Compracion con formula"
      ]
    },
    {
      "cell_type": "code",
      "execution_count": 29,
      "metadata": {
        "colab": {
          "base_uri": "https://localhost:8080/"
        },
        "id": "QjJDx28sEV22",
        "outputId": "4ee876c5-1c9f-43d2-969e-8ed176d43a2c"
      },
      "outputs": [
        {
          "data": {
            "text/plain": [
              "8050.0"
            ]
          },
          "execution_count": 29,
          "metadata": {},
          "output_type": "execute_result"
        }
      ],
      "source": [
        "n*(2*a +d*(n-1))/2"
      ]
    },
    {
      "cell_type": "code",
      "execution_count": null,
      "metadata": {
        "id": "3l2IV6BOEVv2"
      },
      "outputs": [],
      "source": []
    },
    {
      "cell_type": "code",
      "execution_count": null,
      "metadata": {
        "id": "hWDNr6kHEVmm"
      },
      "outputs": [],
      "source": []
    },
    {
      "cell_type": "markdown",
      "metadata": {
        "id": "AKWJ1F7hac8T"
      },
      "source": [
        "# Geometric Series\n",
        "\n",
        "## Modified from Geometric Series -  [Wolfram MathWorld](https://mathworld.wolfram.com/GeometricSeries.html) - [wikipedia](https://en.wikipedia.org/wiki/Geometric_series)\n"
      ]
    },
    {
      "cell_type": "markdown",
      "metadata": {
        "id": "W5zx_-nR81GI"
      },
      "source": [
        "An geometric series is the sum of a sequence $\\{a_k\\}$ for $k=1, 2, ..., $ in which each term is computed from the previous  by multipliying constant $r$ and starts with 1.\n",
        "\n",
        "\\begin{align*}\n",
        "a_0 &\\ \\ =\\ \\ r^0 \\ \\ =\\ \\ 1\\\\\n",
        "a_1 &\\ \\ =\\ \\ a_0 *  r \\ \\ =\\ \\  r\\\\\n",
        "a_2 &\\ \\ =\\ \\ a_1 * r\\ \\ =\\ \\ a_0 * r^2  \\ \\ =\\ \\ r^2 \\\\\n",
        "a_3 &\\ \\ =\\ \\ a_2 * r \\ \\ =\\ \\ a_0 * r^3 \\ \\ =\\ \\  r^3  \\\\\n",
        "a_4 &\\ \\ =\\ \\ a_3 * r\\ \\  =\\ \\ a_0 * r^4 \\ \\  =\\ \\ r^4  \\\\\n",
        "\\vdots\\\\\n",
        "a_k &\\ \\ =\\ \\ a_{(k-1)}* r \\ =\\   a_0 * r^k \\ \\  =\\ \\  r^k\n",
        "\\end{align*}\n",
        "\n",
        "The sum of the first $n$ terms  of  the geometric sequence (called an geometric serie)  is then given by\n",
        "$$\n",
        "\\begin{array}{ll}\n",
        "S_n &=  1 + r + r^2 + \\cdots + r^{n-1} +r^n \\\\\n",
        " &=  (1 + r + r^2 + \\cdots + r^{n-1} ) +r^n \\\\\n",
        " &= S_{n-1}  +r^n\n",
        "\\end{array}\n",
        "$$\n",
        "\n",
        "$$\n",
        "\\begin{array}{ll}\n",
        "S_n &=  1 + r + r^2 + \\cdots + r^{n-1} +r^n \\\\\n",
        " &=  1 + (r + r^2 + \\cdots + r^{n-1}  +r^n)  \\\\\n",
        " &=   1 + r (1 +  r  + r^2 + \\cdots + r^{n-1} )  \\\\\n",
        "  &=   1 + r   S_{n-1}\n",
        "\\end{array}\n",
        "$$\n",
        "\n",
        "Then\n",
        "$$\n",
        " S_{n-1}  +r^n =   1 + r   S_{n-1}\n",
        "$$\n",
        "\n",
        "Therefore\n",
        "$$\n",
        " S_{n-1} (1 -r)   +r^n =   1 - r^n\n",
        "$$\n",
        "\n",
        "$$\n",
        " S_{n-1}   =   \\frac{1 - r^n }{1 -r}\n",
        "$$\n",
        "\n",
        "$$\n",
        " S_{n}   =   \\frac{1 - r^{n+1} }{1 -r}  = \\frac{ r^{n+1} - 1}{r -1}\n",
        "$$\n"
      ]
    },
    {
      "cell_type": "markdown",
      "metadata": {
        "id": "CDUYfT8k8crr"
      },
      "source": [
        "## Nodes in Complete Binary Tree with $L=0,1,2,\\cdots , L-1$ levels\n",
        "\n",
        "![](https://raw.githubusercontent.com/gjhernandezp/algorithms/master/Lab7/ComBinTree.png)\n",
        "\n",
        "In a complete binary tree you have in ecah level $k =0,1,2,\\cdots $  $ 2^k $\n",
        "\n",
        "$$\n",
        "\\begin{array}{ll}\n",
        "\\text {Level } 0 \\rightarrow 2^0 = 1 \\text { node (root)} \\\\\n",
        "\\text {Level } 1 \\rightarrow 2^1 = 2 \\text { nodes} \\\\\n",
        "\\text {Level } 2 \\rightarrow 2^2 = 4 \\text { nodes} \\\\\n",
        "\\text {Level } 3 \\rightarrow 2^3 = 8 \\text { nodes} \\\\\n",
        "\\vdots\\\\\n",
        "\\text {Level } k \\rightarrow 2^k  \\text { nodes} \\\\\n",
        "\\end{array}\n",
        "$$\n",
        "\n",
        "nodes, with $l = 0,1,2, ... $ the level\n",
        "\n",
        "Total number of the complte tree with $L=0,1,2,\\cdots , L-1$ levels\n",
        "\n",
        "$$\n",
        "2^0 + 2^1 + 2^2 + \\cdots +2^{L-1}  = 1 + 2 + 4 + \\cdots +2^{L-1} = \\sum_{k=0}^{L-1} 2^k = \\frac{ 2^{L} - 1}{2 -1} = 2^{L} - 1\n",
        "$$"
      ]
    },
    {
      "cell_type": "markdown",
      "metadata": {
        "id": "TWqL3ugpEpIN"
      },
      "source": [
        "## Add the a geometric series with $r =2$ up to 10** 6 and verify with the formula.  "
      ]
    },
    {
      "cell_type": "markdown",
      "metadata": {
        "id": "tkZe6c6kkEF4"
      },
      "source": [
        "$$\n",
        "\\sum_{n=0}^{10^{6}} 2^n\n",
        "$$"
      ]
    },
    {
      "cell_type": "code",
      "execution_count": 8,
      "metadata": {
        "colab": {
          "base_uri": "https://localhost:8080/"
        },
        "id": "e3DmyWfVEtwV",
        "outputId": "8342f6cc-c864-46d5-8473-395f1ed41df1"
      },
      "outputs": [
        {
          "data": {
            "text/plain": [
              "1048575"
            ]
          },
          "execution_count": 8,
          "metadata": {},
          "output_type": "execute_result"
        }
      ],
      "source": [
        "n = 0\n",
        "r = 2\n",
        "S_n = 0\n",
        "Serie_S_n=[]\n",
        "Sequence_a_n =[]\n",
        "while S_n<10**6:  # range(n+19 goes form 1 to n\n",
        "\n",
        "  a_n = r**n\n",
        "  S_n = S_n + a_n\n",
        "  Serie_S_n.append(S_n)\n",
        "  Sequence_a_n.append(a_n)\n",
        "  n+=1\n",
        "\n",
        "\n",
        "\n",
        "S_n"
      ]
    },
    {
      "cell_type": "markdown",
      "metadata": {
        "id": "9sUf852xUjsz"
      },
      "source": [
        "Verificacion con la formula"
      ]
    },
    {
      "cell_type": "code",
      "execution_count": 5,
      "metadata": {
        "colab": {
          "base_uri": "https://localhost:8080/"
        },
        "id": "DUntYdM9FFc8",
        "outputId": "44bad73b-d9e3-48e9-f6d6-e353a32dfe3a"
      },
      "outputs": [
        {
          "name": "stdout",
          "output_type": "stream",
          "text": [
            "1048575.0\n"
          ]
        }
      ],
      "source": [
        "print((r**n-1)/(r-1))"
      ]
    },
    {
      "cell_type": "markdown",
      "metadata": {
        "id": "PXfwrckTEuZF"
      },
      "source": [
        "## Plot and  print the first 20 terms and the partial sums."
      ]
    },
    {
      "cell_type": "code",
      "execution_count": 9,
      "metadata": {
        "colab": {
          "base_uri": "https://localhost:8080/",
          "height": 518
        },
        "id": "YWdK15t3E2kN",
        "outputId": "79a97d5e-92d3-4574-a6b4-f252291f3240"
      },
      "outputs": [
        {
          "name": "stderr",
          "output_type": "stream",
          "text": [
            "WARNING:matplotlib.legend:No artists with labels found to put in legend.  Note that artists whose label start with an underscore are ignored when legend() is called with no argument.\n"
          ]
        },
        {
          "name": "stdout",
          "output_type": "stream",
          "text": [
            "[1, 2, 4, 8, 16, 32, 64, 128, 256, 512, 1024, 2048, 4096, 8192, 16384, 32768, 65536, 131072, 262144, 524288]\n",
            "[1, 3, 7, 15, 31, 63, 127, 255, 511, 1023, 2047, 4095, 8191, 16383, 32767, 65535, 131071, 262143, 524287, 1048575]\n"
          ]
        },
        {
          "data": {
            "text/plain": [
              "[<matplotlib.lines.Line2D at 0x7eb1542c9960>]"
            ]
          },
          "execution_count": 9,
          "metadata": {},
          "output_type": "execute_result"
        },
        {
          "data": {
            "image/png": "[encoded data removed]",
            "text/plain": [
              "<Figure size 640x480 with 1 Axes>"
            ]
          },
          "metadata": {},
          "output_type": "display_data"
        }
      ],
      "source": [
        "\n",
        "print(Sequence_a_n[0:20])\n",
        "plt.plot(Sequence_a_n[0:20], color='red',label='Secuencia')\n",
        "print(Serie_S_n[0:20])\n",
        "plt.plot(Serie_S_n[0:20], color='green',label='SumasParciales')\n",
        "plt.legend()"
      ]
    },
    {
      "cell_type": "markdown",
      "metadata": {
        "id": "YiWlrhLZNMX9"
      },
      "source": [
        "## Your own examples of a geometric series with  $r =d+1$ with $d$  the last digit of the number in the list, add the series up to 10** 6 and verify with the formula.\n"
      ]
    },
    {
      "cell_type": "markdown",
      "metadata": {
        "id": "oNeTLJCCfffe"
      },
      "source": [
        "$$\n",
        "\\sum_{n=0}^{10^{6}} 2^n\n",
        "$$"
      ]
    },
    {
      "cell_type": "code",
      "execution_count": 10,
      "metadata": {
        "colab": {
          "base_uri": "https://localhost:8080/"
        },
        "id": "YvMkYU8UNOll",
        "outputId": "407cb53d-3d41-4be7-f432-ebff7dc82fc8"
      },
      "outputs": [
        {
          "data": {
            "text/plain": [
              "1048575"
            ]
          },
          "execution_count": 10,
          "metadata": {},
          "output_type": "execute_result"
        }
      ],
      "source": [
        "d=1\n",
        "n = 0\n",
        "r = 1+d\n",
        "S_n = 0\n",
        "Serie_S_n=[]\n",
        "Sequence_a_n =[]\n",
        "while S_n<10**6:  # range(n+19 goes form 1 to n\n",
        "\n",
        "  a_n = r**n\n",
        "  S_n = S_n + a_n\n",
        "  Serie_S_n.append(S_n)\n",
        "  Sequence_a_n.append(a_n)\n",
        "  n+=1\n",
        "\n",
        "\n",
        "S_n"
      ]
    },
    {
      "cell_type": "markdown",
      "metadata": {
        "id": "9TX7LCRtVtFL"
      },
      "source": [
        "Verifcacion con la formula"
      ]
    },
    {
      "cell_type": "code",
      "execution_count": 11,
      "metadata": {
        "colab": {
          "base_uri": "https://localhost:8080/"
        },
        "id": "OLXADM9uVwfu",
        "outputId": "5562f5ad-1f2f-4850-877c-1bbeba399ddd"
      },
      "outputs": [
        {
          "name": "stdout",
          "output_type": "stream",
          "text": [
            "1048575.0\n"
          ]
        }
      ],
      "source": [
        "print((r**n-1)/(r-1))"
      ]
    },
    {
      "cell_type": "markdown",
      "metadata": {
        "id": "ZMYI3sNVEcfC"
      },
      "source": [
        "##  Plot the first 20 terms and the partial sums."
      ]
    },
    {
      "cell_type": "code",
      "execution_count": 12,
      "metadata": {
        "colab": {
          "base_uri": "https://localhost:8080/",
          "height": 500
        },
        "id": "RC-2dFAxEYIt",
        "outputId": "dcd37992-1d26-4c9d-db2c-c84f86ba8df9"
      },
      "outputs": [
        {
          "name": "stdout",
          "output_type": "stream",
          "text": [
            "[1, 2, 4, 8, 16, 32, 64, 128, 256, 512, 1024, 2048, 4096, 8192, 16384, 32768, 65536, 131072, 262144, 524288]\n",
            "[1, 3, 7, 15, 31, 63, 127, 255, 511, 1023, 2047, 4095, 8191, 16383, 32767, 65535, 131071, 262143, 524287, 1048575]\n"
          ]
        },
        {
          "data": {
            "text/plain": [
              "<matplotlib.legend.Legend at 0x7eb12ff878b0>"
            ]
          },
          "execution_count": 12,
          "metadata": {},
          "output_type": "execute_result"
        },
        {
          "data": {
            "image/png": "[encoded data removed]",
            "text/plain": [
              "<Figure size 640x480 with 1 Axes>"
            ]
          },
          "metadata": {},
          "output_type": "display_data"
        }
      ],
      "source": [
        "print(Sequence_a_n[0:20])\n",
        "plt.plot(Sequence_a_n[0:20], color='red',label='Secuencia')\n",
        "print(Serie_S_n[0:20])\n",
        "plt.plot(Serie_S_n[0:20], color='green',label='SumasParciales')\n",
        "plt.legend()"
      ]
    },
    {
      "cell_type": "markdown",
      "metadata": {
        "id": "Dd3RWDwJe2xD"
      },
      "source": [
        "## Zenon Arrow\n",
        "\n",
        "![](https://raw.githubusercontent.com/gjhernandezp/algorithms/master/Lab7/zeno-paradox-arrow.png)\n",
        "\n",
        "Achilles and the tortoise - https://en.wikipedia.org/wiki/Zeno%27s_paradoxes\n",
        "\n",
        "\n",
        "\n",
        "$$\n",
        "\\lim_{n\\rightarrow \\infty} \\left\\{\\left(\\frac{1}{2}\\right)^0 + \\left(\\frac{1}{2}\\right)^1 +\\left(\\frac{1}{2}\\right)^2 + \\cdots +\\left(\\frac{1}{2}\\right)^{n} \\right\\} = \\lim_{n\\rightarrow \\infty} \\left\\{ 1 +\\frac{1}{2} + \\frac{1}{4} + \\frac{1}{8} + \\cdots +\\frac{1}{2^{n}}\\right\\}  = \\lim_{n\\rightarrow \\infty} \\sum_{k=0}^{n} \\left(\\frac{1}{2}\\right)^k = \\lim_{n\\rightarrow \\infty} \\frac{ 1- \\left(\\frac{1}{2}\\right)^n  }{1 - \\left(\\frac{1}{2}\\right) } = \\frac{ 1}{1 - \\left(\\frac{1}{2}\\right)} = 2\n",
        "$$"
      ]
    },
    {
      "cell_type": "markdown",
      "metadata": {
        "id": "R-J4EekBNPkd"
      },
      "source": [
        "## Sum the  geometric with  $r=\\frac{1}{2}$ add the series up to 10**3 and verify with the formula.\n",
        "\n"
      ]
    },
    {
      "cell_type": "markdown",
      "metadata": {
        "id": "11JX36C3jpJ4"
      },
      "source": [
        "$$\n",
        "\\sum_{n=0}^{10^{3}} \\left ( \\frac{1}{2} \\right ) ^n\n",
        "$$"
      ]
    },
    {
      "cell_type": "code",
      "execution_count": 6,
      "metadata": {
        "colab": {
          "base_uri": "https://localhost:8080/"
        },
        "id": "8xdBovY3NEW_",
        "outputId": "52fab8b9-d78a-4841-8b7d-6f0665dd6f0f"
      },
      "outputs": [
        {
          "data": {
            "text/plain": [
              "2.0"
            ]
          },
          "execution_count": 6,
          "metadata": {},
          "output_type": "execute_result"
        }
      ],
      "source": [
        "n = 0\n",
        "r = 0.5\n",
        "S_n = 0\n",
        "Serie_S_n=[]\n",
        "Sequence_a_n =[]\n",
        "while n<=10**3:\n",
        "  a_n = r**n\n",
        "  S_n = S_n + a_n\n",
        "  Serie_S_n.append(S_n)\n",
        "  Sequence_a_n.append(a_n)\n",
        "  n+=1\n",
        "\n",
        "S_n"
      ]
    },
    {
      "cell_type": "markdown",
      "metadata": {
        "id": "gqyf8dDjWGNF"
      },
      "source": [
        "Verificacion con la formula"
      ]
    },
    {
      "cell_type": "code",
      "execution_count": 2,
      "metadata": {
        "colab": {
          "base_uri": "https://localhost:8080/"
        },
        "id": "3bjR3nkYFovN",
        "outputId": "b1a5b013-6f5e-4b31-c45b-5afae1bd0115"
      },
      "outputs": [
        {
          "name": "stdout",
          "output_type": "stream",
          "text": [
            "2.0\n"
          ]
        }
      ],
      "source": [
        "print((r**n-1)/(r-1))"
      ]
    },
    {
      "cell_type": "markdown",
      "metadata": {
        "id": "5pp0GXjjFrgc"
      },
      "source": [
        "## Plot and print the first 60 terms and the partial sums."
      ]
    },
    {
      "cell_type": "code",
      "execution_count": 7,
      "metadata": {
        "colab": {
          "base_uri": "https://localhost:8080/",
          "height": 505
        },
        "id": "BNEY8PfmFyM1",
        "outputId": "cbeb134a-a500-47a3-ce0e-aabe25393034"
      },
      "outputs": [
        {
          "name": "stdout",
          "output_type": "stream",
          "text": [
            "[1.0, 0.5, 0.25, 0.125, 0.0625, 0.03125, 0.015625, 0.0078125, 0.00390625, 0.001953125, 0.0009765625, 0.00048828125, 0.000244140625, 0.0001220703125, 6.103515625e-05, 3.0517578125e-05, 1.52587890625e-05, 7.62939453125e-06, 3.814697265625e-06, 1.9073486328125e-06, 9.5367431640625e-07, 4.76837158203125e-07, 2.384185791015625e-07, 1.1920928955078125e-07, 5.960464477539063e-08, 2.9802322387695312e-08, 1.4901161193847656e-08, 7.450580596923828e-09, 3.725290298461914e-09, 1.862645149230957e-09, 9.313225746154785e-10, 4.656612873077393e-10, 2.3283064365386963e-10, 1.1641532182693481e-10, 5.820766091346741e-11, 2.9103830456733704e-11, 1.4551915228366852e-11, 7.275957614183426e-12, 3.637978807091713e-12, 1.8189894035458565e-12, 9.094947017729282e-13, 4.547473508864641e-13, 2.2737367544323206e-13, 1.1368683772161603e-13, 5.684341886080802e-14, 2.842170943040401e-14, 1.4210854715202004e-14, 7.105427357601002e-15, 3.552713678800501e-15, 1.7763568394002505e-15, 8.881784197001252e-16, 4.440892098500626e-16, 2.220446049250313e-16, 1.1102230246251565e-16, 5.551115123125783e-17, 2.7755575615628914e-17, 1.3877787807814457e-17, 6.938893903907228e-18, 3.469446951953614e-18, 1.734723475976807e-18]\n",
            "[1.0, 1.5, 1.75, 1.875, 1.9375, 1.96875, 1.984375, 1.9921875, 1.99609375, 1.998046875, 1.9990234375, 1.99951171875, 1.999755859375, 1.9998779296875, 1.99993896484375, 1.999969482421875, 1.9999847412109375, 1.9999923706054688, 1.9999961853027344, 1.9999980926513672, 1.9999990463256836, 1.9999995231628418, 1.999999761581421, 1.9999998807907104, 1.9999999403953552, 1.9999999701976776, 1.9999999850988388, 1.9999999925494194, 1.9999999962747097, 1.9999999981373549, 1.9999999990686774, 1.9999999995343387, 1.9999999997671694, 1.9999999998835847, 1.9999999999417923, 1.9999999999708962, 1.999999999985448, 1.999999999992724, 1.999999999996362, 1.999999999998181, 1.9999999999990905, 1.9999999999995453, 1.9999999999997726, 1.9999999999998863, 1.9999999999999432, 1.9999999999999716, 1.9999999999999858, 1.999999999999993, 1.9999999999999964, 1.9999999999999982, 1.9999999999999991, 1.9999999999999996, 1.9999999999999998, 2.0, 2.0, 2.0, 2.0, 2.0, 2.0, 2.0]\n"
          ]
        },
        {
          "data": {
            "text/plain": [
              "<matplotlib.legend.Legend at 0x7ca38cf67520>"
            ]
          },
          "execution_count": 7,
          "metadata": {},
          "output_type": "execute_result"
        },
        {
          "data": {
            "image/png": "[encoded data removed]",
            "text/plain": [
              "<Figure size 640x480 with 1 Axes>"
            ]
          },
          "metadata": {},
          "output_type": "display_data"
        }
      ],
      "source": [
        "print(Sequence_a_n[0:60])\n",
        "plt.plot(Sequence_a_n[0:60], color='red',label='Secuencia')\n",
        "print(Serie_S_n[0:60])\n",
        "plt.plot(Serie_S_n[0:60], color='green',label='SumasParciales')\n",
        "plt.legend()"
      ]
    },
    {
      "cell_type": "markdown",
      "metadata": {
        "id": "y9RQsrrjFx2k"
      },
      "source": [
        "## Your own examples of a geometric series with $r=\\frac{1}{d+1}$  with $d$ add the series up to 10**3 and verify with the formula."
      ]
    },
    {
      "cell_type": "markdown",
      "metadata": {
        "id": "1aZV5VX-f7iu"
      },
      "source": [
        "$$\n",
        "\\sum_{n=0}^{10^{3}} \\left ( \\frac{1}{d+1} \\right ) ^n\n",
        "$$"
      ]
    },
    {
      "cell_type": "code",
      "execution_count": 8,
      "metadata": {
        "colab": {
          "base_uri": "https://localhost:8080/"
        },
        "id": "CtWIsJxlGfGU",
        "outputId": "1f6a970b-08fc-4e81-bd0b-92f11abbfa99"
      },
      "outputs": [
        {
          "data": {
            "text/plain": [
              "2.0"
            ]
          },
          "execution_count": 8,
          "metadata": {},
          "output_type": "execute_result"
        }
      ],
      "source": [
        "d=1\n",
        "n = 0\n",
        "r = 1/(1+d)\n",
        "S_n = 0\n",
        "Serie_S_n=[]\n",
        "Sequence_a_n =[]\n",
        "while n<=10**3:\n",
        "  a_n = r**n\n",
        "  S_n = S_n + a_n\n",
        "  Serie_S_n.append(S_n)\n",
        "  Sequence_a_n.append(a_n)\n",
        "  n+=1\n",
        "\n",
        "S_n"
      ]
    },
    {
      "cell_type": "markdown",
      "metadata": {
        "id": "6sIZaiV9ZkGO"
      },
      "source": [
        "Verificacion con formula"
      ]
    },
    {
      "cell_type": "code",
      "execution_count": 9,
      "metadata": {
        "colab": {
          "base_uri": "https://localhost:8080/"
        },
        "id": "EFbKmFMPGe_E",
        "outputId": "0c790dc6-0070-4880-c00f-93d93f55a1b7"
      },
      "outputs": [
        {
          "name": "stdout",
          "output_type": "stream",
          "text": [
            "2.0\n"
          ]
        }
      ],
      "source": [
        "print((r**n-1)/(r-1))"
      ]
    },
    {
      "cell_type": "markdown",
      "metadata": {
        "id": "sjX-Z7cwGhUt"
      },
      "source": [
        "## Plot and print the first 60 terms and the partial sums."
      ]
    },
    {
      "cell_type": "code",
      "execution_count": 10,
      "metadata": {
        "colab": {
          "base_uri": "https://localhost:8080/",
          "height": 505
        },
        "id": "tdyJ355mGjKG",
        "outputId": "1cf7ee47-4780-4501-bc50-434f92bf5f63"
      },
      "outputs": [
        {
          "name": "stdout",
          "output_type": "stream",
          "text": [
            "[1.0, 0.5, 0.25, 0.125, 0.0625, 0.03125, 0.015625, 0.0078125, 0.00390625, 0.001953125, 0.0009765625, 0.00048828125, 0.000244140625, 0.0001220703125, 6.103515625e-05, 3.0517578125e-05, 1.52587890625e-05, 7.62939453125e-06, 3.814697265625e-06, 1.9073486328125e-06, 9.5367431640625e-07, 4.76837158203125e-07, 2.384185791015625e-07, 1.1920928955078125e-07, 5.960464477539063e-08, 2.9802322387695312e-08, 1.4901161193847656e-08, 7.450580596923828e-09, 3.725290298461914e-09, 1.862645149230957e-09, 9.313225746154785e-10, 4.656612873077393e-10, 2.3283064365386963e-10, 1.1641532182693481e-10, 5.820766091346741e-11, 2.9103830456733704e-11, 1.4551915228366852e-11, 7.275957614183426e-12, 3.637978807091713e-12, 1.8189894035458565e-12, 9.094947017729282e-13, 4.547473508864641e-13, 2.2737367544323206e-13, 1.1368683772161603e-13, 5.684341886080802e-14, 2.842170943040401e-14, 1.4210854715202004e-14, 7.105427357601002e-15, 3.552713678800501e-15, 1.7763568394002505e-15, 8.881784197001252e-16, 4.440892098500626e-16, 2.220446049250313e-16, 1.1102230246251565e-16, 5.551115123125783e-17, 2.7755575615628914e-17, 1.3877787807814457e-17, 6.938893903907228e-18, 3.469446951953614e-18, 1.734723475976807e-18]\n",
            "[1.0, 1.5, 1.75, 1.875, 1.9375, 1.96875, 1.984375, 1.9921875, 1.99609375, 1.998046875, 1.9990234375, 1.99951171875, 1.999755859375, 1.9998779296875, 1.99993896484375, 1.999969482421875, 1.9999847412109375, 1.9999923706054688, 1.9999961853027344, 1.9999980926513672, 1.9999990463256836, 1.9999995231628418, 1.999999761581421, 1.9999998807907104, 1.9999999403953552, 1.9999999701976776, 1.9999999850988388, 1.9999999925494194, 1.9999999962747097, 1.9999999981373549, 1.9999999990686774, 1.9999999995343387, 1.9999999997671694, 1.9999999998835847, 1.9999999999417923, 1.9999999999708962, 1.999999999985448, 1.999999999992724, 1.999999999996362, 1.999999999998181, 1.9999999999990905, 1.9999999999995453, 1.9999999999997726, 1.9999999999998863, 1.9999999999999432, 1.9999999999999716, 1.9999999999999858, 1.999999999999993, 1.9999999999999964, 1.9999999999999982, 1.9999999999999991, 1.9999999999999996, 1.9999999999999998, 2.0, 2.0, 2.0, 2.0, 2.0, 2.0, 2.0]\n"
          ]
        },
        {
          "data": {
            "text/plain": [
              "<matplotlib.legend.Legend at 0x7ca38ca4b670>"
            ]
          },
          "execution_count": 10,
          "metadata": {},
          "output_type": "execute_result"
        },
        {
          "data": {
            "image/png": "[encoded data removed]",
            "text/plain": [
              "<Figure size 640x480 with 1 Axes>"
            ]
          },
          "metadata": {},
          "output_type": "display_data"
        }
      ],
      "source": [
        "print(Sequence_a_n[0:60])\n",
        "plt.plot(Sequence_a_n[0:60], color='red',label='Secuencia')\n",
        "print(Serie_S_n[0:60])\n",
        "plt.plot(Serie_S_n[0:60], color='green',label='SumasParciales')\n",
        "plt.legend()"
      ]
    },
    {
      "cell_type": "markdown",
      "metadata": {
        "id": "dh2ntBeoNQlN"
      },
      "source": [
        "# Power Sums Power Sums - [Wolfram MathWorld](https://mathworld.wolfram.com/PowerSum.html) - [wikipedia](https://en.wikipedia.org/wiki/Sums_of_powers) - [reserachgate](https://www.researchgate.net/publication/331933608_The_Powers_Sums_Bernoulli_Numbers_Bernoulli_Polynomials_Rethinked)\n",
        "\n"
      ]
    },
    {
      "cell_type": "markdown",
      "metadata": {
        "id": "kSYU0kwMCBXB"
      },
      "source": [
        "## Your own example of power sum with $p =$ last digit in the list $+ 1$, i.e., the sum $1^p+2^p+\\cdots + n^p$  series up to  $n=10^6$  and verify with the formula."
      ]
    },
    {
      "cell_type": "markdown",
      "metadata": {
        "id": "OIB7yciXgnQ-"
      },
      "source": [
        "$$\n",
        "\\sum_{n=0}^{10 ^{6} } \\left ( n \\right ) ^p\n",
        "$$"
      ]
    },
    {
      "cell_type": "code",
      "execution_count": 26,
      "metadata": {
        "colab": {
          "base_uri": "https://localhost:8080/"
        },
        "id": "2PyxzzOZVIdl",
        "outputId": "0e1cf116-942d-4f2b-fb42-114b70e381bc"
      },
      "outputs": [
        {
          "data": {
            "text/plain": [
              "333333833333500000"
            ]
          },
          "execution_count": 26,
          "metadata": {},
          "output_type": "execute_result"
        }
      ],
      "source": [
        "n = 0\n",
        "d=1\n",
        "p = 1+d\n",
        "S_n = 0\n",
        "Serie_S_n=[]\n",
        "Sequence_a_n =[]\n",
        "while n <=10**6:\n",
        "\n",
        "  a_n = n**p\n",
        "  S_n = S_n + a_n\n",
        "  Serie_S_n.append(S_n)\n",
        "  Sequence_a_n.append(a_n)\n",
        "  n+=1\n",
        "\n",
        "S_n"
      ]
    },
    {
      "cell_type": "markdown",
      "metadata": {
        "id": "EQOpuQvzat6l"
      },
      "source": [
        "![imagen_2023-09-21_150748894.png](data:image/png;base64,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)"
      ]
    },
    {
      "cell_type": "markdown",
      "metadata": {
        "id": "3WsXcy6oav2s"
      },
      "source": [
        "verifcacion con la formula"
      ]
    },
    {
      "cell_type": "code",
      "execution_count": 27,
      "metadata": {
        "colab": {
          "base_uri": "https://localhost:8080/"
        },
        "id": "VO_jmCYvGxYU",
        "outputId": "ddf4291e-c65e-41d8-a97e-7fd04cb60997"
      },
      "outputs": [
        {
          "name": "stdout",
          "output_type": "stream",
          "text": [
            "3.333348333355e+17\n"
          ]
        }
      ],
      "source": [
        "from scipy.special import binom as binomial\n",
        "\n",
        "def bernouilli_gen(init=1):\n",
        "\n",
        "    from fractions import Fraction\n",
        "    B, m = [], 0\n",
        "    while True:\n",
        "        B.append(Fraction(1, m+1))\n",
        "        for j in range(m, 0, -1):\n",
        "            B[j-1] = j*(B[j-1] - B[j])\n",
        "        yield init*B[0] if m==1 else B[0]# (which is Bm)\n",
        "        m += 1\n",
        "\n",
        "def faulhaber(n,p):\n",
        "    \"\"\" sum of the p-th powers of the first n positive integers\n",
        "    :return: 1^p + 2^p + 3^p + ... + n^p\n",
        "    https://en.wikipedia.org/wiki/Faulhaber%27s_formula\n",
        "    \"\"\"\n",
        "    s=0\n",
        "    for j,a in enumerate(bernouilli_gen()):\n",
        "        if j>p : break\n",
        "        s=s+binomial(p+1,j)*a*n**(p+1-j)\n",
        "    return s//(p+1)\n",
        "\n",
        "print(faulhaber(n,p))"
      ]
    },
    {
      "cell_type": "markdown",
      "metadata": {
        "id": "bLfkQAVNGx1c"
      },
      "source": [
        "## Plot the firtst 20 terms and the partial sums"
      ]
    },
    {
      "cell_type": "code",
      "execution_count": 23,
      "metadata": {
        "colab": {
          "base_uri": "https://localhost:8080/",
          "height": 489
        },
        "id": "j7EtiVSYG2E1",
        "outputId": "fffb1095-04ad-4705-e5eb-c97ab532c008"
      },
      "outputs": [
        {
          "name": "stdout",
          "output_type": "stream",
          "text": [
            "[1, 4, 9, 16, 25, 36, 49, 64, 81, 100, 121, 144, 169, 196, 225, 256, 289, 324, 361, 400]\n",
            "[1, 5, 14, 30, 55, 91, 140, 204, 285, 385, 506, 650, 819, 1015, 1240, 1496, 1785, 2109, 2470, 2870]\n"
          ]
        },
        {
          "data": {
            "text/plain": [
              "<matplotlib.legend.Legend at 0x7ca36ee37e80>"
            ]
          },
          "execution_count": 23,
          "metadata": {},
          "output_type": "execute_result"
        },
        {
          "data": {
            "image/png": "[encoded data removed]",
            "text/plain": [
              "<Figure size 640x480 with 1 Axes>"
            ]
          },
          "metadata": {},
          "output_type": "display_data"
        }
      ],
      "source": [
        "print(Sequence_a_n[0:20])\n",
        "plt.plot(Sequence_a_n[0:20], color='red',label='Secuencia')\n",
        "print(Serie_S_n[0:20])\n",
        "plt.plot(Serie_S_n[0:20], color='green',label='SumasParciales')\n",
        "plt.legend()"
      ]
    }
  ],
  "metadata": {
    "colab": {
      "provenance": []
    },
    "kernelspec": {
      "display_name": "Python 3",
      "name": "python3"
    }
  },
  "nbformat": 4,
  "nbformat_minor": 0
}
